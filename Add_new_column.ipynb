{
 "cells": [
  {
   "cell_type": "markdown",
   "metadata": {},
   "source": [
    "# Смотрим на таблицы"
   ]
  },
  {
   "cell_type": "code",
   "execution_count": null,
   "metadata": {},
   "outputs": [],
   "source": [
    "import pandas as pd\n",
    "from sqlalchemy import create_engine"
   ]
  },
  {
   "cell_type": "code",
   "execution_count": 7,
   "metadata": {},
   "outputs": [],
   "source": [
    "# Путь к файлу\n",
    "engine = create_engine(r'sqlite:///C:\\Users\\comp\\SQL\\futsal_Malboro_project\\mbr123.db')"
   ]
  },
  {
   "cell_type": "code",
   "execution_count": 77,
   "metadata": {},
   "outputs": [],
   "source": [
    "# Здесь формируется SQL запрос\n",
    "df = pd.read_sql_query('SELECT * FROM players', engine)"
   ]
  },
  {
   "cell_type": "code",
   "execution_count": 78,
   "metadata": {},
   "outputs": [
    {
     "data": {
      "text/html": [
       "<div>\n",
       "<style scoped>\n",
       "    .dataframe tbody tr th:only-of-type {\n",
       "        vertical-align: middle;\n",
       "    }\n",
       "\n",
       "    .dataframe tbody tr th {\n",
       "        vertical-align: top;\n",
       "    }\n",
       "\n",
       "    .dataframe thead th {\n",
       "        text-align: right;\n",
       "    }\n",
       "</style>\n",
       "<table border=\"1\" class=\"dataframe\">\n",
       "  <thead>\n",
       "    <tr style=\"text-align: right;\">\n",
       "      <th></th>\n",
       "      <th>player_id</th>\n",
       "      <th>first_name</th>\n",
       "      <th>last_name</th>\n",
       "      <th>birthday</th>\n",
       "    </tr>\n",
       "  </thead>\n",
       "  <tbody>\n",
       "    <tr>\n",
       "      <th>0</th>\n",
       "      <td>1</td>\n",
       "      <td>Ярослав</td>\n",
       "      <td>Есин</td>\n",
       "      <td>1990-11-09</td>\n",
       "    </tr>\n",
       "    <tr>\n",
       "      <th>1</th>\n",
       "      <td>2</td>\n",
       "      <td>Шерзад</td>\n",
       "      <td>Имомназаров</td>\n",
       "      <td>1991-03-28</td>\n",
       "    </tr>\n",
       "    <tr>\n",
       "      <th>2</th>\n",
       "      <td>3</td>\n",
       "      <td>Рауль</td>\n",
       "      <td>Бутаев</td>\n",
       "      <td>1995-07-29</td>\n",
       "    </tr>\n",
       "    <tr>\n",
       "      <th>3</th>\n",
       "      <td>4</td>\n",
       "      <td>Хуршед</td>\n",
       "      <td>Мухитдинов</td>\n",
       "      <td>1993-08-17</td>\n",
       "    </tr>\n",
       "    <tr>\n",
       "      <th>4</th>\n",
       "      <td>5</td>\n",
       "      <td>Данил</td>\n",
       "      <td>Кочелаков</td>\n",
       "      <td>1997-04-21</td>\n",
       "    </tr>\n",
       "    <tr>\n",
       "      <th>5</th>\n",
       "      <td>6</td>\n",
       "      <td>Алексей</td>\n",
       "      <td>Бериков</td>\n",
       "      <td>1995-04-14</td>\n",
       "    </tr>\n",
       "    <tr>\n",
       "      <th>6</th>\n",
       "      <td>7</td>\n",
       "      <td>Жигер</td>\n",
       "      <td>Серсембаев</td>\n",
       "      <td>1996-08-23</td>\n",
       "    </tr>\n",
       "    <tr>\n",
       "      <th>7</th>\n",
       "      <td>8</td>\n",
       "      <td>Павел</td>\n",
       "      <td>Повелицын</td>\n",
       "      <td>1997-04-29</td>\n",
       "    </tr>\n",
       "    <tr>\n",
       "      <th>8</th>\n",
       "      <td>9</td>\n",
       "      <td>Николай</td>\n",
       "      <td>Гараньков</td>\n",
       "      <td>1992-08-16</td>\n",
       "    </tr>\n",
       "    <tr>\n",
       "      <th>9</th>\n",
       "      <td>10</td>\n",
       "      <td>Илья</td>\n",
       "      <td>Шапаренко</td>\n",
       "      <td>1992-08-04</td>\n",
       "    </tr>\n",
       "    <tr>\n",
       "      <th>10</th>\n",
       "      <td>11</td>\n",
       "      <td>Павел</td>\n",
       "      <td>Максимов</td>\n",
       "      <td>1992-08-21</td>\n",
       "    </tr>\n",
       "    <tr>\n",
       "      <th>11</th>\n",
       "      <td>12</td>\n",
       "      <td>Дмитрий</td>\n",
       "      <td>Зубарь</td>\n",
       "      <td>1996-10-04</td>\n",
       "    </tr>\n",
       "    <tr>\n",
       "      <th>12</th>\n",
       "      <td>13</td>\n",
       "      <td>Максим</td>\n",
       "      <td>Коробов</td>\n",
       "      <td>1998-12-27</td>\n",
       "    </tr>\n",
       "    <tr>\n",
       "      <th>13</th>\n",
       "      <td>14</td>\n",
       "      <td>Mario</td>\n",
       "      <td>Gamil</td>\n",
       "      <td>1997-09-11</td>\n",
       "    </tr>\n",
       "    <tr>\n",
       "      <th>14</th>\n",
       "      <td>15</td>\n",
       "      <td>Николай</td>\n",
       "      <td>Доронин</td>\n",
       "      <td>1987-09-17</td>\n",
       "    </tr>\n",
       "    <tr>\n",
       "      <th>15</th>\n",
       "      <td>16</td>\n",
       "      <td>Платон</td>\n",
       "      <td>Чернавин</td>\n",
       "      <td>1998-12-17</td>\n",
       "    </tr>\n",
       "  </tbody>\n",
       "</table>\n",
       "</div>"
      ],
      "text/plain": [
       "    player_id first_name    last_name    birthday\n",
       "0           1    Ярослав         Есин  1990-11-09\n",
       "1           2     Шерзад  Имомназаров  1991-03-28\n",
       "2           3      Рауль       Бутаев  1995-07-29\n",
       "3           4     Хуршед   Мухитдинов  1993-08-17\n",
       "4           5      Данил    Кочелаков  1997-04-21\n",
       "5           6    Алексей      Бериков  1995-04-14\n",
       "6           7      Жигер   Серсембаев  1996-08-23\n",
       "7           8      Павел    Повелицын  1997-04-29\n",
       "8           9    Николай    Гараньков  1992-08-16\n",
       "9          10       Илья    Шапаренко  1992-08-04\n",
       "10         11      Павел     Максимов  1992-08-21\n",
       "11         12    Дмитрий       Зубарь  1996-10-04\n",
       "12         13     Максим      Коробов  1998-12-27\n",
       "13         14      Mario        Gamil  1997-09-11\n",
       "14         15    Николай      Доронин  1987-09-17\n",
       "15         16     Платон     Чернавин  1998-12-17"
      ]
     },
     "execution_count": 78,
     "metadata": {},
     "output_type": "execute_result"
    }
   ],
   "source": [
    "df"
   ]
  },
  {
   "cell_type": "markdown",
   "metadata": {},
   "source": [
    "# Смотрим на существующие таблицы"
   ]
  },
  {
   "cell_type": "code",
   "execution_count": 12,
   "metadata": {},
   "outputs": [
    {
     "name": "stdout",
     "output_type": "stream",
     "text": [
      "players\n",
      "matches\n",
      "json_mbr\n",
      "missed_details\n",
      "goal_details\n",
      "matches_players\n",
      "tournaments\n"
     ]
    }
   ],
   "source": [
    "import sqlite3\n",
    "\n",
    "# Connect to the SQLite database\n",
    "conn = sqlite3.connect('mbr123.db')\n",
    "cursor = conn.cursor()\n",
    "\n",
    "# Query to retrieve the table names\n",
    "table_query = \"SELECT name FROM sqlite_master WHERE type='table'\"\n",
    "\n",
    "# Execute the query\n",
    "cursor.execute(table_query)\n",
    "\n",
    "# Fetch the results\n",
    "tables = cursor.fetchall()\n",
    "\n",
    "# Print the table names\n",
    "for table in tables:\n",
    "    print(table[0])\n",
    "\n",
    "# Close the connection\n",
    "conn.close()"
   ]
  },
  {
   "cell_type": "markdown",
   "metadata": {},
   "source": [
    "# Добавляем данные в текущуюю базу данных"
   ]
  },
  {
   "cell_type": "markdown",
   "metadata": {},
   "source": [
    "### tournaments"
   ]
  },
  {
   "cell_type": "code",
   "execution_count": 16,
   "metadata": {},
   "outputs": [],
   "source": [
    "connection = sqlite3.connect('mbr123.db')\n",
    "cursor = connection.cursor()\n",
    "\n",
    "cursor.execute('INSERT INTO tournaments (tournament_id, tournament_name, start_date, end_date, number_of_teams, our_table_place) VALUES (?,?,?,?,?,?)', (3, 'OFL Кубок закрытия', '2024-04-12', '2024-04-17', 4, 3))\n",
    "\n",
    "connection.commit()\n",
    "connection.close()"
   ]
  },
  {
   "cell_type": "markdown",
   "metadata": {},
   "source": [
    "### matches"
   ]
  },
  {
   "cell_type": "code",
   "execution_count": 21,
   "metadata": {},
   "outputs": [],
   "source": [
    "connection = sqlite3.connect('mbr123.db')\n",
    "cursor = connection.cursor()\n",
    "\n",
    "cursor.execute('INSERT INTO matches (match_id, play_date, opponent, team_points, scored, missed, tournament_id, ref) VALUES (?,?,?,?,?,?,?,?)', (13, '2024-04-12', 'Энергия', 0, 2, 4, 3, 'https://vk.com/video-219953662_456239555'))\n",
    "cursor.execute('INSERT INTO matches (match_id, play_date, opponent, team_points, scored, missed, tournament_id, ref) VALUES (?,?,?,?,?,?,?,?)', (14, '2024-04-17', 'Заноза', 3, 4, 3, 3, 'https://vk.com/video-219953662_456239581?list=c60924ceb2d7682556'))\n",
    "\n",
    "connection.commit()\n",
    "connection.close()"
   ]
  },
  {
   "cell_type": "markdown",
   "metadata": {},
   "source": [
    "### goal_details"
   ]
  },
  {
   "cell_type": "code",
   "execution_count": 29,
   "metadata": {},
   "outputs": [],
   "source": [
    "connection = sqlite3.connect('mbr123.db')\n",
    "cursor = connection.cursor()\n",
    "\n",
    "cursor.execute('INSERT INTO goal_details (goal_id, match_id, who_score, who_assist) VALUES (?,?,?,?)', (39, 13, 9, 0))\n",
    "cursor.execute('INSERT INTO goal_details (goal_id, match_id, who_score, who_assist) VALUES (?,?,?,?)', (40, 13, 6, 1))\n",
    "cursor.execute('INSERT INTO goal_details (goal_id, match_id, who_score, who_assist) VALUES (?,?,?,?)', (41, 14, 1, 6))\n",
    "cursor.execute('INSERT INTO goal_details (goal_id, match_id, who_score, who_assist) VALUES (?,?,?,?)', (42, 14, 14, 6))\n",
    "cursor.execute('INSERT INTO goal_details (goal_id, match_id, who_score, who_assist) VALUES (?,?,?,?)', (43, 14, 4, 0))\n",
    "cursor.execute('INSERT INTO goal_details (goal_id, match_id, who_score, who_assist) VALUES (?,?,?,?)', (44, 14, 4, 14))\n",
    "\n",
    "connection.commit()\n",
    "connection.close()"
   ]
  },
  {
   "cell_type": "markdown",
   "metadata": {},
   "source": [
    "### missed_details"
   ]
  },
  {
   "cell_type": "code",
   "execution_count": 47,
   "metadata": {},
   "outputs": [],
   "source": [
    "connection = sqlite3.connect('mbr123.db')\n",
    "cursor = connection.cursor()\n",
    "\n",
    "cursor.execute('INSERT INTO missed_details (missed_id, match_id, def1, def2, goalkeeper) VALUES (?,?,?,?,?)', (23, 13, 1, 15, 11))\n",
    "cursor.execute('INSERT INTO missed_details (missed_id, match_id, def1, def2, goalkeeper) VALUES (?,?,?,?,?)', (24, 13, 1, 15, 11))\n",
    "cursor.execute('INSERT INTO missed_details (missed_id, match_id, def1, def2, goalkeeper) VALUES (?,?,?,?,?)', (25, 13, 1, 14, 11))\n",
    "cursor.execute('INSERT INTO missed_details (missed_id, match_id, def1, def2, goalkeeper) VALUES (?,?,?,?,?)', (26, 13, 8, 14, 11))\n",
    "cursor.execute('INSERT INTO missed_details (missed_id, match_id, def1, def2, goalkeeper) VALUES (?,?,?,?,?)', (27, 14, 1, 10, 11))\n",
    "cursor.execute('INSERT INTO missed_details (missed_id, match_id, def1, def2, goalkeeper) VALUES (?,?,?,?,?)', (28, 14, 1, 10, 11))\n",
    "cursor.execute('INSERT INTO missed_details (missed_id, match_id, def1, def2, goalkeeper) VALUES (?,?,?,?,?)', (29, 14, 1, 10, 12))\n",
    "\n",
    "connection.commit()\n",
    "connection.close()"
   ]
  },
  {
   "cell_type": "markdown",
   "metadata": {},
   "source": [
    "### matches_players"
   ]
  },
  {
   "cell_type": "code",
   "execution_count": 39,
   "metadata": {},
   "outputs": [],
   "source": [
    "connection = sqlite3.connect('mbr123.db')\n",
    "cursor = connection.cursor()\n",
    "\n",
    "cursor.execute('INSERT INTO matches_players (player_id, match_id) VALUES (?,?)', (1,13))\n",
    "cursor.execute('INSERT INTO matches_players (player_id, match_id) VALUES (?,?)', (11,13))\n",
    "cursor.execute('INSERT INTO matches_players (player_id, match_id) VALUES (?,?)', (6,13))\n",
    "cursor.execute('INSERT INTO matches_players (player_id, match_id) VALUES (?,?)', (9,13))\n",
    "cursor.execute('INSERT INTO matches_players (player_id, match_id) VALUES (?,?)', (10,13))\n",
    "cursor.execute('INSERT INTO matches_players (player_id, match_id) VALUES (?,?)', (8,13))\n",
    "cursor.execute('INSERT INTO matches_players (player_id, match_id) VALUES (?,?)', (15,13))\n",
    "cursor.execute('INSERT INTO matches_players (player_id, match_id) VALUES (?,?)', (14,13))\n",
    "cursor.execute('INSERT INTO matches_players (player_id, match_id) VALUES (?,?)', (4,13))\n",
    "cursor.execute('INSERT INTO matches_players (player_id, match_id) VALUES (?,?)', (2,13))\n",
    "\n",
    "cursor.execute('INSERT INTO matches_players (player_id, match_id) VALUES (?,?)', (1,14))\n",
    "cursor.execute('INSERT INTO matches_players (player_id, match_id) VALUES (?,?)', (11,14))\n",
    "cursor.execute('INSERT INTO matches_players (player_id, match_id) VALUES (?,?)', (12,14))\n",
    "cursor.execute('INSERT INTO matches_players (player_id, match_id) VALUES (?,?)', (10,14))\n",
    "cursor.execute('INSERT INTO matches_players (player_id, match_id) VALUES (?,?)', (6,14))\n",
    "cursor.execute('INSERT INTO matches_players (player_id, match_id) VALUES (?,?)', (8,14))\n",
    "cursor.execute('INSERT INTO matches_players (player_id, match_id) VALUES (?,?)', (14,14))\n",
    "cursor.execute('INSERT INTO matches_players (player_id, match_id) VALUES (?,?)', (4,14))\n",
    "\n",
    "connection.commit()\n",
    "connection.close()"
   ]
  },
  {
   "cell_type": "markdown",
   "metadata": {},
   "source": [
    "### SQL запросы для статистики вратарей"
   ]
  },
  {
   "cell_type": "code",
   "execution_count": null,
   "metadata": {},
   "outputs": [],
   "source": [
    "# SELECT count(*) FROM missed_details WHERE goalkeeper = 11 сколько пропустил мячей\n",
    "# SELECT count(*) FROM matches_players WHERE player_id = 11 сколько сыграл матчей\n",
    "\n",
    "# SELECT count(*) FROM missed_details WHERE goalkeeper = 12\n",
    "# SELECT count(*) FROM matches_players WHERE player_id = 11"
   ]
  }
 ],
 "metadata": {
  "kernelspec": {
   "display_name": "Python 3 (ipykernel)",
   "language": "python",
   "name": "python3"
  },
  "language_info": {
   "codemirror_mode": {
    "name": "ipython",
    "version": 3
   },
   "file_extension": ".py",
   "mimetype": "text/x-python",
   "name": "python",
   "nbconvert_exporter": "python",
   "pygments_lexer": "ipython3",
   "version": "3.11.7"
  }
 },
 "nbformat": 4,
 "nbformat_minor": 4
}
